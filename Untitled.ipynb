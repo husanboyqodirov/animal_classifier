{
 "cells": [
  {
   "cell_type": "code",
   "execution_count": null,
   "metadata": {},
   "outputs": [],
   "source": [
    "from tensorflow.keras.preprocessing.image import ImageDataGenerator\n",
    "from tensorflow.keras.preprocessing import image\n",
    "from tensorflow.keras.optimizers import RMSprop\n",
    "import matplotlib.pyplot as plt\n",
    "import tensorflow as tf\n",
    "import numpy as np\n",
    "import cv2\n",
    "import os"
   ]
  },
  {
   "cell_type": "code",
   "execution_count": null,
   "metadata": {},
   "outputs": [],
   "source": [
    "train = ImageDataGenerator(rescale = 1/255)\n",
    "validation = ImageDataGenerator(rescale = 1/255)"
   ]
  },
  {
   "cell_type": "code",
   "execution_count": null,
   "metadata": {},
   "outputs": [],
   "source": [
    "train_dataset = train.flow_from_directory(\"basedata/training/\",\n",
    "                                         target_size= (200,200),\n",
    "                                         batch_size=3,\n",
    "                                         class_mode='binary')\n",
    "\n",
    "validation_dataset = validation.flow_from_directory(\"basedata/validation/\",\n",
    "                                         target_size= (200,200),\n",
    "                                         batch_size=3,\n",
    "                                         class_mode='binary')"
   ]
  },
  {
   "cell_type": "code",
   "execution_count": null,
   "metadata": {},
   "outputs": [],
   "source": [
    "train_dataset.class_indices"
   ]
  },
  {
   "cell_type": "code",
   "execution_count": null,
   "metadata": {},
   "outputs": [],
   "source": [
    "train_dataset.classes"
   ]
  },
  {
   "cell_type": "code",
   "execution_count": null,
   "metadata": {},
   "outputs": [],
   "source": [
    "model = tf.keras.models.Sequential([tf.keras.layers.Conv2D(16,(3,3),activation='relu',input_shape=(200,200,3)),\n",
    "                                   tf.keras.layers.MaxPool2D(2,2),\n",
    "                                    #\n",
    "                                    tf.keras.layers.Conv2D(32,(3,3),activation='relu'),\n",
    "                                   tf.keras.layers.MaxPool2D(2,2),\n",
    "                                    #\n",
    "                                    tf.keras.layers.Conv2D(64,(3,3),activation='relu'),\n",
    "                                   tf.keras.layers.MaxPool2D(2,2),\n",
    "                                    #\n",
    "                                    tf.keras.layers.Flatten(),\n",
    "                                    tf.keras.layers.Dense(512,activation='relu'),\n",
    "                                    tf.keras.layers.Dense(1,activation='sigmoid')])\n"
   ]
  },
  {
   "cell_type": "code",
   "execution_count": null,
   "metadata": {},
   "outputs": [],
   "source": [
    "model.compile(loss='binary_crossentropy',\n",
    "             optimizer = RMSprop(lr=0.001),\n",
    "             metrics=['accuracy'])"
   ]
  },
  {
   "cell_type": "code",
   "execution_count": null,
   "metadata": {},
   "outputs": [],
   "source": [
    "model_fit = model.fit(train_dataset,\n",
    "                     steps_per_epoch=3,\n",
    "                     epochs=10,\n",
    "                     validation_data=validation_dataset)"
   ]
  },
  {
   "cell_type": "code",
   "execution_count": null,
   "metadata": {},
   "outputs": [],
   "source": [
    "dir_path = 'basedata/testing'\n",
    "\n",
    "for i in os.listdir(dir_path):\n",
    "    img = image.load_img(dir_path+'//' + i, target_size=(200,200))\n",
    "    plt.imshow(img)\n",
    "    plt.show()\n",
    "    \n",
    "    x = image.img_to_array(img)\n",
    "    x = np.expand_dims(x,axis=0)\n",
    "    images = np.vstack([x])\n",
    "    val = model.predict(images)\n",
    "    \n",
    "    if val == 0:\n",
    "        print(\"you are a cat !\")\n",
    "    else:\n",
    "        print(\"you are a dog !\")"
   ]
  },
  {
   "cell_type": "code",
   "execution_count": null,
   "metadata": {},
   "outputs": [],
   "source": []
  }
 ],
 "metadata": {
  "kernelspec": {
   "display_name": "Python 3",
   "language": "python",
   "name": "python3"
  },
  "language_info": {
   "codemirror_mode": {
    "name": "ipython",
    "version": 3
   },
   "file_extension": ".py",
   "mimetype": "text/x-python",
   "name": "python",
   "nbconvert_exporter": "python",
   "pygments_lexer": "ipython3",
   "version": "3.8.6"
  }
 },
 "nbformat": 4,
 "nbformat_minor": 4
}
